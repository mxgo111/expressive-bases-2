{
 "cells": [
  {
   "cell_type": "code",
   "execution_count": 5,
   "id": "db7c0f17-ebbc-4a2f-a048-accba4d2ec21",
   "metadata": {},
   "outputs": [
    {
     "name": "stderr",
     "output_type": "stream",
     "text": [
      "/Users/mxgo/opt/anaconda3/envs/spring-2022-nlm-research/lib/python3.9/site-packages/tqdm/auto.py:22: TqdmWarning: IProgress not found. Please update jupyter and ipywidgets. See https://ipywidgets.readthedocs.io/en/stable/user_install.html\n",
      "  from .autonotebook import tqdm as notebook_tqdm\n"
     ]
    }
   ],
   "source": [
    "import pickle, sys\n",
    "\n",
    "sys.path.append(\"../../src\")\n",
    "\n",
    "from util import *\n",
    "from configurations import *\n",
    "from generate_data import generate_data\n",
    "from model import FullyConnected, BayesianRegression, NLM\n",
    "from analyze import analyze"
   ]
  },
  {
   "cell_type": "code",
   "execution_count": 6,
   "id": "1d5893f4-c3ca-4606-bc5d-c0902178d710",
   "metadata": {},
   "outputs": [],
   "source": [
    "with open(\"models/6588924259372.obj\", \"rb\") as file:\n",
    "    model = pickle.load(file)"
   ]
  },
  {
   "cell_type": "code",
   "execution_count": 10,
   "id": "10b08a08-1a4f-428a-b384-79951b4a0c41",
   "metadata": {},
   "outputs": [
    {
     "data": {
      "text/plain": [
       "0.001"
      ]
     },
     "execution_count": 10,
     "metadata": {},
     "output_type": "execute_result"
    }
   ],
   "source": [
    "model.lr"
   ]
  },
  {
   "cell_type": "code",
   "execution_count": 11,
   "id": "17f8a35c-fc48-4444-9952-bf370a1d9bbc",
   "metadata": {},
   "outputs": [],
   "source": [
    "plt.scatter([0,1], [2, 3])\n",
    "plt.savefig(\"test\")"
   ]
  },
  {
   "cell_type": "code",
   "execution_count": null,
   "id": "d82eb13d-8022-4b0b-b53a-0bd9f4db8d45",
   "metadata": {},
   "outputs": [],
   "source": []
  }
 ],
 "metadata": {
  "kernelspec": {
   "display_name": "Python 3 (ipykernel)",
   "language": "python",
   "name": "python3"
  },
  "language_info": {
   "codemirror_mode": {
    "name": "ipython",
    "version": 3
   },
   "file_extension": ".py",
   "mimetype": "text/x-python",
   "name": "python",
   "nbconvert_exporter": "python",
   "pygments_lexer": "ipython3",
   "version": "3.9.7"
  }
 },
 "nbformat": 4,
 "nbformat_minor": 5
}
