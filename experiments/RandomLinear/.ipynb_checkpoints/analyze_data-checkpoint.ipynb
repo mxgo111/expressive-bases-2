{
 "cells": [
  {
   "cell_type": "code",
   "execution_count": null,
   "id": "ea7be8b8",
   "metadata": {},
   "outputs": [],
   "source": [
    "from IPython.display import Image, display\n",
    "import sys, os\n",
    "\n",
    "# import items from src folder\n",
    "sys.path.append(\"../../src\")\n",
    "\n",
    "from util import *"
   ]
  },
  {
   "cell_type": "code",
   "execution_count": null,
   "id": "4459db36-1728-449f-8d94-e85867e96c9e",
   "metadata": {},
   "outputs": [],
   "source": [
    "def visualize_model_by_id(model_id):\n",
    "    model_path = f\"models/{model_id}\"\n",
    "\n",
    "    viz = [\"bases\", \"posterior\", \"prior\"]\n",
    "    viz_paths = [ (model_path + '-' + viz[i] + '.png') for i in range(len(viz))]\n",
    "\n",
    "    for image in viz_paths:\n",
    "        display(Image(filename=image))\n",
    "        \n",
    "def visualize_bases_by_id(model_id):\n",
    "    model_path = f\"models/{model_id}\"\n",
    "\n",
    "    viz = [\"bases\"]\n",
    "    viz_paths = [ (model_path + '-' + viz[i] + '.png') for i in range(len(viz))]\n",
    "\n",
    "    for image in viz_paths:\n",
    "        display(Image(filename=image))\n",
    "        \n",
    "# e.g. visualize_bases_by_id(6681214355280)"
   ]
  },
  {
   "cell_type": "code",
   "execution_count": null,
   "id": "2cc8d3ba-6cdd-40a2-bd5b-aa5a8fe6e761",
   "metadata": {},
   "outputs": [],
   "source": [
    "# read data file\n",
    "with open('data.pkl', 'rb') as f:\n",
    "    df = pickle.load(f)\n",
    "    \n",
    "relevant_cols = [\"model_id\", \"trained_epochs\", \"layers\", \"rand_init_seed\", \"eff_dim\", \"uncertainty_area\"]\n",
    "df = df[relevant_cols]\n",
    "    \n",
    "df.tail(25)"
   ]
  }
 ],
 "metadata": {
  "kernelspec": {
   "display_name": "Python 3 (ipykernel)",
   "language": "python",
   "name": "python3"
  },
  "language_info": {
   "codemirror_mode": {
    "name": "ipython",
    "version": 3
   },
   "file_extension": ".py",
   "mimetype": "text/x-python",
   "name": "python",
   "nbconvert_exporter": "python",
   "pygments_lexer": "ipython3",
   "version": "3.9.7"
  }
 },
 "nbformat": 4,
 "nbformat_minor": 5
}
