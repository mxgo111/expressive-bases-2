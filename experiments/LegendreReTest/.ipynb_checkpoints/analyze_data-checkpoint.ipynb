{
 "cells": [
  {
   "cell_type": "code",
   "execution_count": 1,
   "id": "ea7be8b8",
   "metadata": {},
   "outputs": [
    {
     "name": "stderr",
     "output_type": "stream",
     "text": [
      "/Users/mxgo/opt/anaconda3/envs/spring-2022-nlm-research/lib/python3.9/site-packages/tqdm/auto.py:22: TqdmWarning: IProgress not found. Please update jupyter and ipywidgets. See https://ipywidgets.readthedocs.io/en/stable/user_install.html\n",
      "  from .autonotebook import tqdm as notebook_tqdm\n"
     ]
    }
   ],
   "source": [
    "from IPython.display import Image, display\n",
    "import sys, os\n",
    "\n",
    "# import items from src folder\n",
    "sys.path.append(\"../../src\")\n",
    "\n",
    "from util import *"
   ]
  },
  {
   "cell_type": "code",
   "execution_count": 2,
   "id": "4459db36-1728-449f-8d94-e85867e96c9e",
   "metadata": {},
   "outputs": [],
   "source": [
    "def visualize_model_by_id(model_id):\n",
    "    model_path = f\"models/{model_id}\"\n",
    "\n",
    "    viz = [\"bases\", \"posterior\", \"prior\"]\n",
    "    viz_paths = [ (model_path + '-' + viz[i] + '.png') for i in range(len(viz))]\n",
    "\n",
    "    for image in viz_paths:\n",
    "        display(Image(filename=image))\n",
    "        \n",
    "def visualize_bases_by_id(model_id):\n",
    "    model_path = f\"models/{model_id}\"\n",
    "\n",
    "    viz = [\"bases\"]\n",
    "    viz_paths = [ (model_path + '-' + viz[i] + '.png') for i in range(len(viz))]\n",
    "\n",
    "    for image in viz_paths:\n",
    "        display(Image(filename=image))\n",
    "        \n",
    "# e.g. visualize_bases_by_id(6681214355280)"
   ]
  },
  {
   "cell_type": "code",
   "execution_count": 3,
   "id": "2cc8d3ba-6cdd-40a2-bd5b-aa5a8fe6e761",
   "metadata": {},
   "outputs": [
    {
     "data": {
      "text/html": [
       "<div>\n",
       "<style scoped>\n",
       "    .dataframe tbody tr th:only-of-type {\n",
       "        vertical-align: middle;\n",
       "    }\n",
       "\n",
       "    .dataframe tbody tr th {\n",
       "        vertical-align: top;\n",
       "    }\n",
       "\n",
       "    .dataframe thead th {\n",
       "        text-align: right;\n",
       "    }\n",
       "</style>\n",
       "<table border=\"1\" class=\"dataframe\">\n",
       "  <thead>\n",
       "    <tr style=\"text-align: right;\">\n",
       "      <th></th>\n",
       "      <th>model_id</th>\n",
       "      <th>trained_epochs</th>\n",
       "      <th>layers</th>\n",
       "      <th>rand_init_seed</th>\n",
       "      <th>eff_dim</th>\n",
       "      <th>uncertainty_area</th>\n",
       "    </tr>\n",
       "  </thead>\n",
       "  <tbody>\n",
       "    <tr>\n",
       "      <th>0</th>\n",
       "      <td>7887483763429</td>\n",
       "      <td>&lt;NA&gt;</td>\n",
       "      <td>[1, 50, 20, 1]</td>\n",
       "      <td>0</td>\n",
       "      <td>1.105891</td>\n",
       "      <td>1.251837</td>\n",
       "    </tr>\n",
       "    <tr>\n",
       "      <th>1</th>\n",
       "      <td>7887486149455</td>\n",
       "      <td>&lt;NA&gt;</td>\n",
       "      <td>[1, 50, 20, 1]</td>\n",
       "      <td>1</td>\n",
       "      <td>1.105891</td>\n",
       "      <td>1.251837</td>\n",
       "    </tr>\n",
       "  </tbody>\n",
       "</table>\n",
       "</div>"
      ],
      "text/plain": [
       "        model_id trained_epochs          layers  rand_init_seed   eff_dim  \\\n",
       "0  7887483763429           <NA>  [1, 50, 20, 1]               0  1.105891   \n",
       "1  7887486149455           <NA>  [1, 50, 20, 1]               1  1.105891   \n",
       "\n",
       "   uncertainty_area  \n",
       "0          1.251837  \n",
       "1          1.251837  "
      ]
     },
     "execution_count": 3,
     "metadata": {},
     "output_type": "execute_result"
    }
   ],
   "source": [
    "# read data file\n",
    "with open('data.pkl', 'rb') as f:\n",
    "    df = pickle.load(f)\n",
    "    \n",
    "relevant_cols = [\"model_id\", \"trained_epochs\", \"layers\", \"rand_init_seed\", \"eff_dim\", \"uncertainty_area\"]\n",
    "df = df[relevant_cols]\n",
    "    \n",
    "df.tail(25)"
   ]
  },
  {
   "cell_type": "code",
   "execution_count": null,
   "id": "b3f86acc-c1c0-475b-b559-cbad9e3128c9",
   "metadata": {},
   "outputs": [],
   "source": [
    "visualize_model_by_id(7887486149455)"
   ]
  }
 ],
 "metadata": {
  "kernelspec": {
   "display_name": "Python 3 (ipykernel)",
   "language": "python",
   "name": "python3"
  },
  "language_info": {
   "codemirror_mode": {
    "name": "ipython",
    "version": 3
   },
   "file_extension": ".py",
   "mimetype": "text/x-python",
   "name": "python",
   "nbconvert_exporter": "python",
   "pygments_lexer": "ipython3",
   "version": "3.9.7"
  }
 },
 "nbformat": 4,
 "nbformat_minor": 5
}
